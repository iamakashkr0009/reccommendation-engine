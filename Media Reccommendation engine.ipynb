{
 "cells": [
  {
   "cell_type": "code",
   "execution_count": 2,
   "metadata": {
    "collapsed": false
   },
   "outputs": [
    {
     "name": "stdout",
     "output_type": "stream",
     "text": [
      "Enter Movie Interested: Spectre\n",
      "Top 10 Same type movies to Spectre are:\n",
      "\n",
      "Skyfall\n",
      "Quantum of Solace\n",
      "The Girl with the Dragon Tattoo\n",
      "The Hunger Games: Catching Fire\n",
      "Johnny English Reborn\n",
      "One for the Money\n",
      "The Adventurer: The Curse of the Midas Box\n",
      "Nancy Drew\n",
      "Diamonds Are Forever\n",
      "The Other Side of Heaven\n"
     ]
    }
   ],
   "source": [
    "import pandas as pd\n",
    "import numpy as np\n",
    "import warnings\n",
    "warnings.filterwarnings('ignore')\n",
    "from sklearn.feature_extraction.text import CountVectorizer\n",
    "from sklearn.metrics.pairwise import cosine_similarity #I am importing all the required library here.\n",
    "\n",
    "df = pd.read_csv(\"F:\\project\\Movie dataset.csv\")\n",
    "#Reading the premade dataset.\n",
    "\n",
    "requirements = ['keywords','cast','genres','director']\n",
    "\n",
    "def together_requirements(row):\n",
    "    return row['keywords'] +\" \"+row['cast']+\" \"+row[\"genres\"]+\" \"+row[\"director\"]\n",
    "\n",
    "for requirement in requirements:\n",
    "    df[requirement] = df[requirement].fillna('') #filling all NaNs with blank string\n",
    "df[\"together_requirements\"] = df.apply(together_requirements,axis=1)#applying together_requirements() method over each rows of dataframe and storing the combined string in “together_requirements” column\n",
    "\n",
    " \n",
    "cv = CountVectorizer() #creating new CountVectorizer() object With CountVectorizer.\n",
    "#here I am converting raw text to a numerical vector representation of words and n-grams. \n",
    "#This makes it easy to directly use this representation as features (signals) in Machine Learning tasks such as for text classification and clustering.\n",
    "\n",
    "\n",
    "\n",
    "count_matrix = cv.fit_transform(df[\"together_requirements\"])#here chamging (movie contents) to CountVectorizer() object\n",
    "\n",
    "cosine_sim = cosine_similarity(count_matrix) #The cosine similarity will measure the similarity between these two vectors which is a measurement of how similar are the preferences.\n",
    "#Cosine similarity is a metric used to measure how similar the documents are irrespective of their size.\n",
    "#Mathematically, it measures the cosine of the angle between two vectors projected in a multi-dimensional space. \n",
    "#The cosine similarity is advantageous because even if the two similar documents are far apart by the Euclidean distance (due to the size of the document), chances are they may still be oriented closer together.\n",
    "#The smaller the angle, higher the cosine similarity.\n",
    "\n",
    "\n",
    "def title_from_index(index):\n",
    "    return df[df.index == index][\"title\"].values[0]\n",
    "\n",
    "def index_from_title(title):\n",
    "    return df[df.title == title][\"index\"].values[0]\n",
    "\n",
    "interested_movies = input(\"Enter Movie Interested: \")#Here just write any movie name from data set and this recommender will recommend you from finding cosine similarity score and tell which are the most similar movies.\n",
    "\n",
    "index_of_movie = index_from_title(interested_movies)\n",
    "Same_type_movies =  list(enumerate(cosine_sim[index_of_movie])) #accessing the row corresponding to given movie to find all the similarity scores for that movie and then enumerating over it\n",
    "\n",
    "sorted_Same_type_movies = sorted(Same_type_movies,key=lambda x:x[1],reverse=True)[1:]\n",
    "i=0\n",
    "print(\"Top 10 Same type movies to \"+interested_movies+\" are:\\n\")\n",
    "for element in sorted_Same_type_movies:\n",
    "    print(title_from_index(element[0]))\n",
    "    i=i+1\n",
    "    if i>=10: #Here just increase and decrease the value of i and we will get that particular number of similar movies.\n",
    "        break\n",
    "\n",
    "\n",
    "\n",
    "\n",
    "        "
   ]
  },
  {
   "cell_type": "code",
   "execution_count": null,
   "metadata": {
    "collapsed": true
   },
   "outputs": [],
   "source": []
  },
  {
   "cell_type": "code",
   "execution_count": null,
   "metadata": {
    "collapsed": true
   },
   "outputs": [],
   "source": []
  }
 ],
 "metadata": {
  "anaconda-cloud": {},
  "kernelspec": {
   "display_name": "Python [default]",
   "language": "python",
   "name": "python3"
  },
  "language_info": {
   "codemirror_mode": {
    "name": "ipython",
    "version": 3
   },
   "file_extension": ".py",
   "mimetype": "text/x-python",
   "name": "python",
   "nbconvert_exporter": "python",
   "pygments_lexer": "ipython3",
   "version": "3.5.2"
  }
 },
 "nbformat": 4,
 "nbformat_minor": 1
}
